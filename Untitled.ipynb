{
 "cells": [
  {
   "cell_type": "code",
   "execution_count": 1,
   "id": "512797f0-0c04-4a06-9873-ee715071f1f5",
   "metadata": {},
   "outputs": [
    {
     "name": "stdout",
     "output_type": "stream",
     "text": [
      "ftjob-1ZQezWiU3XKgCJqS8j5DtIHf\n"
     ]
    }
   ],
   "source": [
    "from openai import OpenAI\n",
    "client = OpenAI(api_key=\"sk-roYuDSVuTABXZKbAM0dM_qrmqJpVwv1gYvcrBH6wxYT3BlbkFJrZWkOsRhO_DtGHgp_LK25lbIQA9Al22CPtNCYRnW8A\")\n",
    "\n",
    "training_file_name = '/home/ubuntu/xchange/train_train.jsonl'\n",
    "validation_file_name = '/home/ubuntu/xchange/train_validate.jsonl'\n",
    "\n",
    "training_file = client.files.create(\n",
    "    file=open(training_file_name, \"rb\"), purpose=\"fine-tune\"\n",
    ")\n",
    "validation_file = client.files.create(\n",
    "    file=open(validation_file_name, \"rb\"), purpose=\"fine-tune\"\n",
    ")\n",
    "\n",
    "# Create Fine-Tuning Job\n",
    "suffix_name = \"Xchange\"\n",
    "response = client.fine_tuning.jobs.create(\n",
    "    training_file=training_file.id,\n",
    "    validation_file=validation_file.id,\n",
    "    model=\"gpt-3.5-turbo\",\n",
    "    suffix=suffix_name,\n",
    ")\n",
    "\n",
    "job_id = response.id\n",
    "\n",
    "print(job_id)"
   ]
  },
  {
   "cell_type": "code",
   "execution_count": 3,
   "id": "f12f7173-8082-492c-8e5d-9792c83d62f8",
   "metadata": {},
   "outputs": [
    {
     "name": "stdout",
     "output_type": "stream",
     "text": [
      "Fine-tuning job failed.\n"
     ]
    }
   ],
   "source": [
    "import time\n",
    "\n",
    "\n",
    "while True:\n",
    "    job_status = client.fine_tuning.jobs.retrieve(job_id).status\n",
    "    if job_status == \"completed\":\n",
    "        break\n",
    "    elif job_status == \"failed\":\n",
    "        print(\"Fine-tuning job failed.\")\n",
    "        break\n",
    "    else:\n",
    "        print(f\"Job status: {job_status}\")\n",
    "        # Add any additional monitoring logic here\n",
    "        time.sleep(30)  # Check job status every 30 seconds\n",
    "\n",
    "# Retrieve Results\n",
    "if job_status == \"completed\":\n",
    "    # Retrieve the results using the proper method\n",
    "    results = client.fine_tuning.jobs.retrieve(job_id).get_results()\n",
    "    print(\"Fine-tuning job completed. Results: \", results)"
   ]
  }
 ],
 "metadata": {
  "kernelspec": {
   "display_name": "Python 3 (ipykernel)",
   "language": "python",
   "name": "python3"
  },
  "language_info": {
   "codemirror_mode": {
    "name": "ipython",
    "version": 3
   },
   "file_extension": ".py",
   "mimetype": "text/x-python",
   "name": "python",
   "nbconvert_exporter": "python",
   "pygments_lexer": "ipython3",
   "version": "3.12.4"
  }
 },
 "nbformat": 4,
 "nbformat_minor": 5
}
